{
 "cells": [
  {
   "cell_type": "code",
   "execution_count": 1,
   "id": "537ee4cc",
   "metadata": {},
   "outputs": [
    {
     "name": "stdout",
     "output_type": "stream",
     "text": [
      "hello python\n"
     ]
    }
   ],
   "source": [
    "print('hello python')"
   ]
  },
  {
   "cell_type": "code",
   "execution_count": null,
   "id": "39d2c2da",
   "metadata": {},
   "outputs": [],
   "source": []
  },
  {
   "cell_type": "code",
   "execution_count": 2,
   "id": "f34cc283",
   "metadata": {},
   "outputs": [
    {
     "name": "stdout",
     "output_type": "stream",
     "text": [
      "hello python\n"
     ]
    }
   ],
   "source": [
    "print(\"hello python\")"
   ]
  },
  {
   "cell_type": "code",
   "execution_count": 4,
   "id": "e0d0df99",
   "metadata": {},
   "outputs": [
    {
     "name": "stdout",
     "output_type": "stream",
     "text": [
      "most populuar programming langauge 'python'\n"
     ]
    }
   ],
   "source": [
    "print(\"most populuar programming langauge 'python'\")"
   ]
  },
  {
   "cell_type": "code",
   "execution_count": 5,
   "id": "22ce7cab",
   "metadata": {},
   "outputs": [
    {
     "name": "stdout",
     "output_type": "stream",
     "text": [
      "most popular programming language \"python\"\n"
     ]
    }
   ],
   "source": [
    "print('most popular programming language \"python\"')"
   ]
  },
  {
   "cell_type": "code",
   "execution_count": 6,
   "id": "cb692202",
   "metadata": {},
   "outputs": [
    {
     "name": "stdout",
     "output_type": "stream",
     "text": [
      "This is a python\n"
     ]
    }
   ],
   "source": [
    "print('This is a python') "
   ]
  },
  {
   "cell_type": "code",
   "execution_count": 7,
   "id": "ee004fe5",
   "metadata": {},
   "outputs": [
    {
     "name": "stdout",
     "output_type": "stream",
     "text": [
      " Hello \n",
      " python \n"
     ]
    }
   ],
   "source": [
    "print(\" Hello \\n python \")\n"
   ]
  },
  {
   "cell_type": "code",
   "execution_count": 8,
   "id": "adcaf717",
   "metadata": {},
   "outputs": [
    {
     "name": "stdout",
     "output_type": "stream",
     "text": [
      "\t WELCOME TO PYTHON\n"
     ]
    }
   ],
   "source": [
    "print(\"\\t WELCOME TO PYTHON\")"
   ]
  },
  {
   "cell_type": "code",
   "execution_count": 9,
   "id": "5f645d7e",
   "metadata": {},
   "outputs": [
    {
     "name": "stdout",
     "output_type": "stream",
     "text": [
      " Python 'programing' \n"
     ]
    }
   ],
   "source": [
    "print(' Python \\'programing\\' ')"
   ]
  },
  {
   "cell_type": "code",
   "execution_count": 12,
   "id": "8d16ef78",
   "metadata": {},
   "outputs": [
    {
     "name": "stdout",
     "output_type": "stream",
     "text": [
      "hello python\n",
      "hello harsh\n"
     ]
    }
   ],
   "source": [
    "print('hello python')\n",
    "print('hello harsh')"
   ]
  },
  {
   "cell_type": "code",
   "execution_count": 17,
   "id": "0798bc01",
   "metadata": {},
   "outputs": [
    {
     "name": "stdout",
     "output_type": "stream",
     "text": [
      "  hello \n",
      "  harsh\n"
     ]
    }
   ],
   "source": [
    "print(\"  hello \\n  harsh\")"
   ]
  },
  {
   "cell_type": "code",
   "execution_count": 20,
   "id": "752074a0",
   "metadata": {},
   "outputs": [
    {
     "name": "stdout",
     "output_type": "stream",
     "text": [
      "           \thello harsh\n"
     ]
    }
   ],
   "source": [
    "print(\"           \\thello harsh\")"
   ]
  },
  {
   "cell_type": "markdown",
   "id": "826b1aa5",
   "metadata": {},
   "source": [
    "print(\" hello\\\"harsh\\\"\")"
   ]
  },
  {
   "cell_type": "markdown",
   "id": "afab953c",
   "metadata": {},
   "source": [
    "print(\"\\b hello harsh\")"
   ]
  },
  {
   "cell_type": "code",
   "execution_count": 35,
   "id": "d697715a",
   "metadata": {},
   "outputs": [
    {
     "name": "stdout",
     "output_type": "stream",
     "text": [
      "\b hello harsh\n"
     ]
    }
   ],
   "source": [
    "print(\"\\b hello harsh\")"
   ]
  },
  {
   "cell_type": "code",
   "execution_count": 36,
   "id": "fee5ec71",
   "metadata": {},
   "outputs": [
    {
     "name": "stdout",
     "output_type": "stream",
     "text": [
      "Python\n"
     ]
    }
   ],
   "source": [
    "print(\"Python\")"
   ]
  },
  {
   "cell_type": "code",
   "execution_count": 37,
   "id": "30df5e4c",
   "metadata": {},
   "outputs": [
    {
     "name": "stdout",
     "output_type": "stream",
     "text": [
      "Python "
     ]
    }
   ],
   "source": [
    "print(\"Python\",end=\" \")"
   ]
  },
  {
   "cell_type": "code",
   "execution_count": 38,
   "id": "15d30079",
   "metadata": {},
   "outputs": [
    {
     "name": "stdout",
     "output_type": "stream",
     "text": [
      "Python\n",
      "Programing\n"
     ]
    }
   ],
   "source": [
    "print(\"Python\")\n",
    "print(\"Programing\")"
   ]
  },
  {
   "cell_type": "code",
   "execution_count": 39,
   "id": "88b9b60c",
   "metadata": {},
   "outputs": [
    {
     "name": "stdout",
     "output_type": "stream",
     "text": [
      "Python Programing\n"
     ]
    }
   ],
   "source": [
    "print(\"Python\",end=\" \")\n",
    "print(\"Programing\")"
   ]
  },
  {
   "cell_type": "code",
   "execution_count": 42,
   "id": "67c67f4b",
   "metadata": {},
   "outputs": [
    {
     "name": "stdout",
     "output_type": "stream",
     "text": [
      "hello   harsh\n"
     ]
    }
   ],
   "source": [
    "print('hello',end='   ')\n",
    "print('harsh')"
   ]
  },
  {
   "cell_type": "code",
   "execution_count": 3,
   "id": "224eee9a",
   "metadata": {},
   "outputs": [
    {
     "name": "stdout",
     "output_type": "stream",
     "text": [
      "hello harsh\n",
      "rajput\n"
     ]
    }
   ],
   "source": [
    "print('hello',end=' ')\n",
    "print('harsh')\n",
    "print('rajput')"
   ]
  },
  {
   "cell_type": "code",
   "execution_count": 43,
   "id": "dfd2b299",
   "metadata": {},
   "outputs": [
    {
     "name": "stdout",
     "output_type": "stream",
     "text": [
      "First Name :  Sunit  And Last Name :  Jha\n",
      "Staff Number :  8\n"
     ]
    }
   ],
   "source": [
    "# inheritance example\n",
    "class Person():\n",
    "    fname=\"\"\n",
    "    lname=\"\"\n",
    "    def __init__(self,fname,lname):\n",
    "        self.fname=fname\n",
    "        self.lname=lname\n",
    "    def showName(self):\n",
    "        print(\"First Name : \",self.fname,\" And Last Name : \",self.lname)\n",
    "\n",
    "class Employee(Person):\n",
    "    \n",
    "    sno=0\n",
    "    def __init__(self,fname,lname,sno):\n",
    "        Person.__init__(self, fname, lname)\n",
    "        self.sno=sno\n",
    "        \n",
    "    def showEmployee(self):\n",
    "        self.showName()\n",
    "        print(\"Staff Number : \",self.sno)\n",
    "\n",
    "b=Person(\"Sunit\",\"Jha\")\n",
    "a=Employee(\"Sunit\",\"Jha\",8)\n",
    "#b.showName()\n",
    "a.showEmployee()"
   ]
  },
  {
   "cell_type": "code",
   "execution_count": 54,
   "id": "4cffa793",
   "metadata": {},
   "outputs": [],
   "source": [
    "class Person():\n",
    "    fname=\"\"\n",
    "    lname=\"\"\n",
    "    def __init__(self,fname,lname):\n",
    "        self.fname=fname\n",
    "        self.lname=lname\n",
    "    def showName(self):\n",
    "        print(\"First Name : \",self.fname,\" And Last Name : \",self.lname)\n",
    "\n",
    "class Employee(Person):\n",
    "    \n",
    "    sno=0\n",
    "    def __init__(self,fname,lname,sno):\n",
    "        Person.__init__(self, fname, lname)\n",
    "        self.sno=sno\n",
    "        \n",
    "    def showEmployee(self):\n",
    "        self.showName()\n",
    "        print(\"Staff Number : \",self.sno)"
   ]
  },
  {
   "cell_type": "code",
   "execution_count": 55,
   "id": "26b27da5",
   "metadata": {},
   "outputs": [],
   "source": [
    "# inheritance example\n",
    "class Person():\n",
    "    fname=\"\"\n",
    "    lname=\"\"\n",
    "    def __init__(self,fname,lname):\n",
    "        self.fname=fname\n",
    "        self.lname=lname\n",
    "    def showName(self):\n",
    "        print(\"First Name : \",self.fname,\" And Last Name : \",self.lname)\n",
    "\n",
    "class Employee(Person):\n",
    "    \n",
    "    sno=0\n",
    "    def __init__(self,fname,lname,sno):\n",
    "        Person.__init__(self, fname, lname)\n",
    "        self.sno=sno\n",
    "        \n",
    "    def showEmployee(self):\n",
    "        self.showName()\n",
    "        print(\"Staff Number : \",self.sno)\n",
    "\n",
    "b=Person(\"Sunit\",\"Jha\")\n",
    "a=Employee(\"Sunit\",\"Jha\",8)"
   ]
  },
  {
   "cell_type": "markdown",
   "id": "fac6082e",
   "metadata": {},
   "source": []
  },
  {
   "cell_type": "code",
   "execution_count": 58,
   "id": "2a8944f1",
   "metadata": {},
   "outputs": [
    {
     "data": {
      "text/plain": [
       "1540.0"
      ]
     },
     "execution_count": 58,
     "metadata": {},
     "output_type": "execute_result"
    }
   ],
   "source": [
    "55*(55+1)/2"
   ]
  },
  {
   "cell_type": "code",
   "execution_count": 60,
   "id": "15124125",
   "metadata": {},
   "outputs": [
    {
     "data": {
      "text/plain": [
       "1540.0"
      ]
     },
     "execution_count": 60,
     "metadata": {},
     "output_type": "execute_result"
    }
   ],
   "source": [
    "55*(55+1)/2"
   ]
  },
  {
   "cell_type": "code",
   "execution_count": 4,
   "id": "049dd861",
   "metadata": {},
   "outputs": [
    {
     "name": "stdout",
     "output_type": "stream",
     "text": [
      "enter a number ; 10\n",
      "sum is  55.0\n"
     ]
    }
   ],
   "source": [
    "n = int(input(\"enter a number ; \"))\n",
    "\n",
    "sum = (n * (n+1)) / 2\n",
    "       \n",
    "print(\"sum is \",sum)"
   ]
  },
  {
   "cell_type": "code",
   "execution_count": 8,
   "id": "2d0f6bbd",
   "metadata": {},
   "outputs": [],
   "source": [
    "name = 'harsh'"
   ]
  },
  {
   "cell_type": "markdown",
   "id": "4d846b31",
   "metadata": {},
   "source": [
    "name = 'harsh'"
   ]
  },
  {
   "cell_type": "code",
   "execution_count": 9,
   "id": "0663f07e",
   "metadata": {},
   "outputs": [
    {
     "data": {
      "text/plain": [
       "'Harsh'"
      ]
     },
     "execution_count": 9,
     "metadata": {},
     "output_type": "execute_result"
    }
   ],
   "source": [
    "name.capitalize()"
   ]
  },
  {
   "cell_type": "code",
   "execution_count": 11,
   "id": "92be7a46",
   "metadata": {},
   "outputs": [
    {
     "data": {
      "text/plain": [
       "'harsh                                                                                                          '"
      ]
     },
     "execution_count": 11,
     "metadata": {},
     "output_type": "execute_result"
    }
   ],
   "source": [
    "name.ljust(111)"
   ]
  },
  {
   "cell_type": "markdown",
   "id": "ae54d399",
   "metadata": {},
   "source": [
    "name.rjust(111)"
   ]
  },
  {
   "cell_type": "code",
   "execution_count": 12,
   "id": "37626b7c",
   "metadata": {},
   "outputs": [
    {
     "data": {
      "text/plain": [
       "'                                                                                                          harsh'"
      ]
     },
     "execution_count": 12,
     "metadata": {},
     "output_type": "execute_result"
    }
   ],
   "source": [
    "name.rjust(111)"
   ]
  },
  {
   "cell_type": "markdown",
   "id": "45fccda3",
   "metadata": {},
   "source": [
    "name.islower()"
   ]
  },
  {
   "cell_type": "code",
   "execution_count": 14,
   "id": "22c8fd5d",
   "metadata": {},
   "outputs": [
    {
     "data": {
      "text/plain": [
       "True"
      ]
     },
     "execution_count": 14,
     "metadata": {},
     "output_type": "execute_result"
    }
   ],
   "source": [
    "name.islower()"
   ]
  },
  {
   "cell_type": "code",
   "execution_count": null,
   "id": "65f53704",
   "metadata": {},
   "outputs": [],
   "source": []
  },
  {
   "cell_type": "code",
   "execution_count": null,
   "id": "ec7af4b2",
   "metadata": {},
   "outputs": [],
   "source": []
  },
  {
   "cell_type": "code",
   "execution_count": 13,
   "id": "683f0929",
   "metadata": {},
   "outputs": [
    {
     "data": {
      "text/plain": [
       "False"
      ]
     },
     "execution_count": 13,
     "metadata": {},
     "output_type": "execute_result"
    }
   ],
   "source": [
    "name.isupper()"
   ]
  },
  {
   "cell_type": "code",
   "execution_count": 34,
   "id": "293c0645",
   "metadata": {},
   "outputs": [],
   "source": [
    "st = \"hello harsh rajput\""
   ]
  },
  {
   "cell_type": "code",
   "execution_count": 17,
   "id": "ff85a6b4",
   "metadata": {},
   "outputs": [
    {
     "data": {
      "text/plain": [
       "3"
      ]
     },
     "execution_count": 17,
     "metadata": {},
     "output_type": "execute_result"
    }
   ],
   "source": [
    "st.count('h')"
   ]
  },
  {
   "cell_type": "code",
   "execution_count": 18,
   "id": "227178bb",
   "metadata": {},
   "outputs": [
    {
     "data": {
      "text/plain": [
       "2"
      ]
     },
     "execution_count": 18,
     "metadata": {},
     "output_type": "execute_result"
    }
   ],
   "source": [
    "st.count(\"a\")"
   ]
  },
  {
   "cell_type": "code",
   "execution_count": 19,
   "id": "739a3c8e",
   "metadata": {},
   "outputs": [
    {
     "data": {
      "text/plain": [
       "0"
      ]
     },
     "execution_count": 19,
     "metadata": {},
     "output_type": "execute_result"
    }
   ],
   "source": [
    "st.count(\"q\")"
   ]
  },
  {
   "cell_type": "code",
   "execution_count": 36,
   "id": "1c8122f1",
   "metadata": {},
   "outputs": [
    {
     "data": {
      "text/plain": [
       "10"
      ]
     },
     "execution_count": 36,
     "metadata": {},
     "output_type": "execute_result"
    }
   ],
   "source": [
    "st.rfind(\"h\")"
   ]
  },
  {
   "cell_type": "code",
   "execution_count": 40,
   "id": "73a9fa32",
   "metadata": {},
   "outputs": [
    {
     "data": {
      "text/plain": [
       "-1"
      ]
     },
     "execution_count": 40,
     "metadata": {},
     "output_type": "execute_result"
    }
   ],
   "source": [
    "st.rfind(\"q\")"
   ]
  },
  {
   "cell_type": "code",
   "execution_count": 38,
   "id": "9f370088",
   "metadata": {},
   "outputs": [
    {
     "data": {
      "text/plain": [
       "0"
      ]
     },
     "execution_count": 38,
     "metadata": {},
     "output_type": "execute_result"
    }
   ],
   "source": [
    "st.index('h')"
   ]
  },
  {
   "cell_type": "code",
   "execution_count": 42,
   "id": "50d15679",
   "metadata": {},
   "outputs": [
    {
     "data": {
      "text/plain": [
       "17"
      ]
     },
     "execution_count": 42,
     "metadata": {},
     "output_type": "execute_result"
    }
   ],
   "source": [
    "st.index('t')"
   ]
  },
  {
   "cell_type": "code",
   "execution_count": 44,
   "id": "3356b877",
   "metadata": {},
   "outputs": [
    {
     "data": {
      "text/plain": [
       "17"
      ]
     },
     "execution_count": 44,
     "metadata": {},
     "output_type": "execute_result"
    }
   ],
   "source": [
    "st.rindex('t')"
   ]
  },
  {
   "cell_type": "code",
   "execution_count": 50,
   "id": "973c75d6",
   "metadata": {},
   "outputs": [
    {
     "name": "stdout",
     "output_type": "stream",
     "text": [
      "enter a string ; Write a python program to sum of the first n positive integers\n",
      "enter a substring ; t\n",
      "substring occurs times 7\n"
     ]
    }
   ],
   "source": [
    "# #  Write a Python program to count occurrences of a substring in a string\n",
    "\n",
    "\n",
    "my_string = input(\"enter a string ; \")\n",
    "my_substring = input(\"enter a substring ; \")\n",
    "\n",
    "my_count = my_string.count(my_substring)\n",
    "\n",
    "print(\"substring occurs times\",my_count)"
   ]
  },
  {
   "cell_type": "code",
   "execution_count": 51,
   "id": "e91ce03d",
   "metadata": {},
   "outputs": [
    {
     "name": "stdout",
     "output_type": "stream",
     "text": [
      "enter a number ; 55\n",
      "sum is 1540.0\n"
     ]
    }
   ],
   "source": [
    "#  Write a python program to sum of the first n positive integers\n",
    "\n",
    "sum = (n*(n+1))/2\n",
    "\n",
    "n = int(input(\"enter a number ; \"))\n",
    "sum = (n*(n+1))/2\n",
    "print(\"sum is\",sum)"
   ]
  },
  {
   "cell_type": "code",
   "execution_count": 56,
   "id": "bc4e4f4b",
   "metadata": {},
   "outputs": [
    {
     "name": "stdout",
     "output_type": "stream",
     "text": [
      "enter a number ; 55\n",
      "sum is 1540.0\n"
     ]
    }
   ],
   "source": [
    "n = int(input(\"enter a number ; \"))\n",
    "sum = (n*(n+1))/2\n",
    "print(\"sum is\",sum)"
   ]
  }
 ],
 "metadata": {
  "kernelspec": {
   "display_name": "Python 3 (ipykernel)",
   "language": "python",
   "name": "python3"
  },
  "language_info": {
   "codemirror_mode": {
    "name": "ipython",
    "version": 3
   },
   "file_extension": ".py",
   "mimetype": "text/x-python",
   "name": "python",
   "nbconvert_exporter": "python",
   "pygments_lexer": "ipython3",
   "version": "3.9.13"
  }
 },
 "nbformat": 4,
 "nbformat_minor": 5
}
