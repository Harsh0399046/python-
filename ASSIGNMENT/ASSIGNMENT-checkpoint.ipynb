{
 "cells": [
  {
   "cell_type": "code",
   "execution_count": 1,
   "id": "a541b307",
   "metadata": {},
   "outputs": [
    {
     "name": "stdout",
     "output_type": "stream",
     "text": [
      "enter a number ; 55\n",
      "sum is 1540.0\n"
     ]
    }
   ],
   "source": [
    "# Write a python program to sum of the first n positive integers.\n",
    "\n",
    "n = int(input(\"enter a number ; \"))\n",
    "sum = (n*(n+1))/2\n",
    "print(\"sum is\",sum)"
   ]
  },
  {
   "cell_type": "code",
   "execution_count": 3,
   "id": "efc522b9",
   "metadata": {},
   "outputs": [
    {
     "name": "stdout",
     "output_type": "stream",
     "text": [
      "enter a string ; Write a python program to sum of the first n positive integers\n",
      "enter a substring ; it\n",
      "substring ocuurs 2\n"
     ]
    }
   ],
   "source": [
    "# Write a Python program to count occurrences of a substring in a string.\n",
    "\n",
    "my_string = input(\"enter a string ; \")\n",
    "my_substring = input(\"enter a substring ; \")\n",
    "\n",
    "my_count =my_string.count(my_substring)\n",
    "print(\"substring ocuurs %d\" % my_count)"
   ]
  }
 ],
 "metadata": {
  "kernelspec": {
   "display_name": "Python 3 (ipykernel)",
   "language": "python",
   "name": "python3"
  },
  "language_info": {
   "codemirror_mode": {
    "name": "ipython",
    "version": 3
   },
   "file_extension": ".py",
   "mimetype": "text/x-python",
   "name": "python",
   "nbconvert_exporter": "python",
   "pygments_lexer": "ipython3",
   "version": "3.9.13"
  }
 },
 "nbformat": 4,
 "nbformat_minor": 5
}
